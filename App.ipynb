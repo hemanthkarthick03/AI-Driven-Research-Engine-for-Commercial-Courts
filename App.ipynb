{
 "cells": [
  {
   "cell_type": "markdown",
   "metadata": {},
   "source": [
    "## AI - Research Engine for Commercial Courts"
   ]
  },
  {
   "cell_type": "code",
   "execution_count": 27,
   "metadata": {},
   "outputs": [],
   "source": [
    "from langchain_community.vectorstores import FAISS\n",
    "from langchain_community.embeddings import HuggingFaceEmbeddings\n",
    "from langchain.prompts import PromptTemplate\n",
    "from langchain.memory import ConversationBufferWindowMemory\n",
    "from langchain.chains import ConversationalRetrievalChain\n",
    "from langchain_together import Together\n",
    "from langchain.embeddings.base import Embeddings\n",
    "from langchain.vectorstores import FAISS\n",
    "\n",
    "\n",
    "from transformers import AutoTokenizer, AutoModel\n",
    "import torch\n",
    "import numpy as np"
   ]
  },
  {
   "cell_type": "code",
   "execution_count": 28,
   "metadata": {},
   "outputs": [
    {
     "data": {
      "text/plain": [
       "[Document(metadata={'source': 'Case-Test.pdf', 'page': 0}, page_content=\"2 All]                     Manoj Kumar Pandey and others V. State of U.P. and another 593\\nORIGINAL JURISDICTION \\nCIVIL SIDE \\nDATED: ALLAHABAD 27.02.2006 \\n \\nBEFORE \\nTHE HON’BLE DR. B.S. CHAUHAN, J. \\nTHE HON’BLE DILIP GUPTA, J. \\n \\nCivil Misc. Writ Petition No. 40736 of 2002 \\n \\nManoj Kumar Pandey & others ...Petitioners \\nVersus \\nState of U.P. and another   ...Opp. parties \\n \\nCounsel for the Petitioners: \\nSri S.P. Pandey \\nSri D.P. Shukla \\n \\nCounsel for the Opposite Parties: Sri B.N. Singh \\n \\nConstitution of India, Art. 226 -Right to \\nappointment-petitioner appeared in competative examination-held for the Post of A.P.O. result declared on 20.3.99-State Government send requisition 26.7.01-petition filed in September 2002 e.g. much after expiry of the life of waiting list-parity can not be claimed.  Held: Para 9 & 10  The Hon'ble Apex Court while considering the case has granted relief only to those persons who had \\napproached the Court and those were \\nthe persons who had filed the writ petition before this Court within one year from the date on which the last recommendation had been made. Therefore, those persons had approached the Court when the select list/merit list was alive. The case of the petitioners is quite distinguishable as they have approached this Court after more than two months of the expiry of the select list. Therefore, petitioners cannot claim the relief which had been granted to other persons by the Hon'ble Apex Court.  \\n If some person has taken a relief from \\nthis Court by filing a Writ Petition immediately after the cause of action had arisen, petitioners cannot take the benefit thereof by filing a writ petition belatedly. They cannot take any benefit thereof at such a belated stage for the reason that they cannot be permitted to take the impetus of the order passed at the behest of some diligent person.  \\nCase law discussed:\\n \\n2004 (2) ESC-256 AIR 1979 SC-765 AIR 1981 SC-487 AIR 1983 SC-580 1990 (3) SCC-468 1993 (Suppl.) 1 SCC-632 1997 (6) SCC-721 1996 (3) SCC-225 AIR 1996 SC-1145 AIR 1996 SC-2173 1999 (1) SCC-330 2003 (3) SCC-669 1006 (6) SCC-267 \\n \\n(Delivered by Hon'ble Dr. B.S. Chauhan, J.) \\n \\n1.  This petition has been filed for a \\ndirection upon the U.P. Public Service \\nCommission, Allahabad to recommend \\nthe names of the waiting list-candidates against the existing vacancies of Assistant \\nProsecuting Officers, which had been \\nadvertised by Advertisement No. A-5/E-\\n1/1997-98.  \\n \\n2.  Learned counsel for the \\npetitioners has submitted that all the \\npetitioners had appeared in the written examination and were also called for \\ninterview. The final select list was \\ndeclared on 20th March, 1999 and even \\nthough the names of the petitioners were \\nnot included in the main select list, but they are hopeful that their names would \\nbe included in the waiting list. The State \\nGovernment had sent a requisition to the \\nCommission to recommend the names of \"),\n",
       " Document(metadata={'source': 'Case-Test.pdf', 'page': 1}, page_content='594                               INDIAN LAW REPORT S ALLAHABAD SERIES                            [2006  \\nthe candidates next in order of merit, as \\ncertain candidates did not join the post, \\nbut the Commission expressed its \\ninability as the life of the waiting list had \\nexpired. This decision of the Commission \\nwas challenged by 11 candidates by filing \\na writ petition in this Court which was dismissed. The Supreme Court however granted relief to them by directing that \\nthey shall be considered by the \\nCommission and the State Government, \\nand would be appointed if otherwise found suitable and eligible. The said decision was rendered in Sheo Shyam & \\nOrs. Vs. State of U.P. & Ors., (2004) 2 \\nESC 256. The Supreme Court in the said \\ndecision held that the life of the waiting list which is of one year should be reckoned from the last date when the \\nrecommendation was made by the State \\nGovernment. However, in view of the fact \\nthat after the decision of the Commission not to send the names to the State Government as the waiting list had expired, which decision was the subject matter of the writ petition before the High Court, the State Government itself had sent a requisition of 56 posts, including 11 posts to which the dispute related, and examinations were held subsequently on 9th November, 2003, the Supreme Court observed that the career of 11 candidates cannot be jeopardised, and therefore in these peculiar circumstances, it directed that the appointment shall be considered \\nby the Commission and the State \\nGovernment.  \\n \\n3.  Learned counsel for the \\npetitioners submitted that the same relief \\nshould be granted to the petitioners. From \\na perusal of the judgment of the Supreme \\nCourt we find that because of the peculiar facts and circumstances of the case that the Supreme Court had granted relief to the 11 appellants only. The Supreme \\nCourt could have granted relief to all the \\ncandidates in the waiting list subject to \\nthe availability of the vacancies.  \\n \\n4.  In the State of Kerla Vs. Kumari \\nT.P. Roshana & Ors., AIR 1979 SC 765, the Hon\\'ble Supreme Court considered this aspect and observed as under:-  \\n \\n\"The root of the grievance and the \\nfruit of the writ are not individual but collective and while the \\'\\'adversary system\\' makes the Judge a mere umpire, \\ntraditionally speaking, the community \\norientation of the judicial function, so \\ndesirable in the Third World remedial jurisprudence, transforms the Court\\'s power into affirmative structuring of \\nredress so as to make it personally \\nmeaningful and socially relevant. \\nFrustration of invalidity is part of the judicial duty; fulfilment of legality is complementary. Selection of these thirty students will not be confined to those who have moved this Court or the High Court by way of writ petition or appeal. The measure is academic excellence, not litigating persistence. It will be thrown open to the first thirty strictly according to merit measure by marks secured.\"  \\n 5.  The same view has been \\nexpressed by the Apex Court in Ajay Hasia & Ors. Vs. Khalid Mujib \\nSehravardi & Ors., AIR 1981 SC 487; and \\nPunjab Engineering College, Chandigarh \\nVs. Sanjay Gulati & Ors., AIR 1983 SC 580. In Thaper Institute of Engineering & Technology, Patiala Vs. Abhinav Taneja \\n& Ors., (1990) 3 SCC 468, the Apex court \\nconsidered a case where the High Court \\nhad issued directions to admit the students who had approached the writ Court, '),\n",
       " Document(metadata={'source': 'Case-Test.pdf', 'page': 2}, page_content='2 All]                     Manoj Kumar Pandey and others V. State of U.P. and another 595\\nignoring the merit of the students who had \\nnot approached the Court.  \\n \\nThe Hon\\'ble Supreme Court \\nobserved as under:-  \\n \\n\"The High Court should have \\ndirected only two students to be admitted and that too on merit. Admittedly, there \\nwere more meritorious students than the \\nrespondents, waiting in queue. The High \\nCourt, thus, travelled beyond its jurisdiction and not only directed more students than the institute could absorb \\nbut also students who were less \\nmeritorious, to be admitted. No reasons \\nwhatsoever have been given by the High Court for exercising its extraordinary writ jurisdiction so peremptorily which has \\nresulted in injustice, both to the appellant-\\ninstitution as well as to the students who \\nstood higher in merit than all most all the respondent- students. We refrain from making any further comment on the impugned judgment.\"  \\n 6.  Similarly, general directions were \\nissued to give benefit to the students strictly in accordance with the merit, in Srawan Kumar & Ors Vs. Director General of Health Services & Ors, 1993 (Supp) 1 SCC 632. In K.C. Sharma & Ors. Vs. Union of India & Ors., (1997) 6 SCC 721, a Constitution Bench of the Hon\\'ble Supreme Court has considered \\nthe aspect of giving benefit to a particular \\nperson and refusal to grant such benefit \\nby the High Court to other similarly situated only on the ground that they had approached the Court at a belated stage. \\nThe Apex Court held that in such a case \\nthe judgement has to be rendered in rem \\nand benefit of the judgment should be given to all other similarly situated persons.  7.  However as seen above, the \\nSupreme Court in Sheo Shyam & Ors \\n(Supra) restricted the relief to 11 \\nappointments only. In this view of the \\nmatter we would not be justified in \\ngranting any relief to the petitioners. This \\napart, it must also be noticed that no specific averment has been made by the petitioners that their names were included \\nin the waiting list. All that they have \\nstated is that they expect that their names \\nwould be included in the waiting list.  \\n 8.  Further the present petitioners \\nhave filed this writ petition only in \\nSeptember, 2002 much after the expiry of \\none year from the date when the last recommendation was made on 26th July, 2001. This petition has been filed after the \\nlife of the waiting list came to an end. It is \\nsettled legal proposition that no relief can \\nbe granted to the candidate if he approaches the Court after expiry of the Select List. (Vide J. Ashok Kumar Vs. State of Andhra Pradesh & Ors., JT (1996) 3 SCC 225; State of Bihar & Ors. Vs. Md. Kalimuddin & Ors., AIR 1996 SC 1145; State of U.P. & Ors. Vs. Harish Chandra & Ors., AIR 1996 SC 2173; Sushma Suri Vs. Government of National Capital Territory of Delhi & Anr., (1999) 1 SCC 330; & State of U.P. & Ors. Vs. Ram Swarup Saroj, (2003) 3 SCC 699). It has been held therein that if the selection process is over, select list had expired and \\nappointments had been made, no relief \\ncan be granted by the Court at a belated \\nstage.  \\n 9.  The Hon\\'ble Apex Court while \\nconsidering the case has granted relief \\nonly to those persons who had approached \\nthe Court and those were the persons who had filed the writ petition before this Court within one year from the date on '),\n",
       " Document(metadata={'source': 'Case-Test.pdf', 'page': 3}, page_content='596                               INDIAN LAW REPORT S ALLAHABAD SERIES                            [2006  \\nwhich the last recommendation had been \\nmade. Therefore, those persons had \\napproached the Court when the select \\nlist/merit list was alive. The case of the \\npetitioners is quite distinguishable as they \\nhave approached this Court after more \\nthan two months of the expiry of the select list. Therefore, petitioners cannot claim the relief which had been granted to \\nother persons by the Hon\\'ble Apex Court.  \\n \\n10.  If some person has taken a relief \\nfrom this Court by filing a Writ Petition immediately after the cause of action had \\narisen, petitioners cannot take the benefit \\nthereof by filing a writ petition belatedly. \\nThey cannot take any benefit thereof at such a belated stage for the reason that they cannot be permitted to take the \\nimpetus of the order passed at the behest \\nof some diligent person.  \\n 11.  In State of Karnataka & Ors. Vs. \\nS.M. Kotrayya & Ors., (1996) 6 SCC 267, the Hon\\'ble Supreme Court rejected the contention that a petition should be considered ignoring the delay and laches on the ground that he filed the petition just after coming to know of the relief granted by the Court in a similar case as the same cannot furnish a proper explanation for delay and laches. The Court observed that such a plea is wholly unjustified and cannot furnish any ground for ignoring delay and laches.   \\n \\n12.  Same view has been reiterated \\nby the Hon\\'ble Supreme Court in Jagdish Lal & Ors. Vs. State of Haryana & Ors., AIR 1997 SC 2366, observing as under:-  \\n \\n\"Suffice it to state that appellants \\nmay be sleeping over their rights for long and elected to wake-up when they had impetus from Veerpal Chauhan and Ajit Singh\\'s ratio.... desperate attempts of the \\nappellants to re-do the seniority, held by \\nthem in various cadre.... are not amenable \\nto the judicial review at this belated stage. \\nThe High Court, therefore, has rightly \\ndismissed the writ petition on the ground \\nof delay as well.\"  \\n 13.  In M/s. Roop Diamonds & Ors. \\nVs. Union of India & Ors., AIR 1989 SC \\n674, the Hon\\'ble Supreme Court \\nconsidered a case where petitioner wanted to get the relief on the basis of the judgment of the Supreme Court wherein a \\nparticular law had been declared ultra \\nvires. The Court rejected the petition on \\nthe ground of delay and latches observing as under:-   \\n \\n\"There is one more ground which \\nbasically sets the present case apart. \\nPetitioners are re-agitating claims which they have not persued for several years. Petitioners were not vigilant but were content to be dormant and close to sit on the fence till somebody else\\'s case came to be decided.\"  \\n 14.  Thus, petitioner was not entitled \\nto claim any benefit of the said judgment of this Court.  \\n 15.  In view of the above, we are of \\nthe considered opinion that no relief can be granted to the petitioners. Petition \\nlacks merit and is accordingly dismissed.  \\n--------- \\n  \\n \\n   \\n \\n ')]"
      ]
     },
     "execution_count": 28,
     "metadata": {},
     "output_type": "execute_result"
    }
   ],
   "source": [
    "from langchain_community.document_loaders import PyPDFLoader\n",
    "import streamlit as st\n",
    "\n",
    "loader = PyPDFLoader(\"Case-Test.pdf\")\n",
    "docs = loader.load()\n",
    "docs"
   ]
  },
  {
   "cell_type": "code",
   "execution_count": 29,
   "metadata": {},
   "outputs": [
    {
     "data": {
      "text/plain": [
       "[Document(metadata={'source': 'Case-Test.pdf', 'page': 0}, page_content=\"2 All]                     Manoj Kumar Pandey and others V. State of U.P. and another 593\\nORIGINAL JURISDICTION \\nCIVIL SIDE \\nDATED: ALLAHABAD 27.02.2006 \\n \\nBEFORE \\nTHE HON’BLE DR. B.S. CHAUHAN, J. \\nTHE HON’BLE DILIP GUPTA, J. \\n \\nCivil Misc. Writ Petition No. 40736 of 2002 \\n \\nManoj Kumar Pandey & others ...Petitioners \\nVersus \\nState of U.P. and another   ...Opp. parties \\n \\nCounsel for the Petitioners: \\nSri S.P. Pandey \\nSri D.P. Shukla \\n \\nCounsel for the Opposite Parties: Sri B.N. Singh \\n \\nConstitution of India, Art. 226 -Right to \\nappointment-petitioner appeared in competative examination-held for the Post of A.P.O. result declared on 20.3.99-State Government send requisition 26.7.01-petition filed in September 2002 e.g. much after expiry of the life of waiting list-parity can not be claimed.  Held: Para 9 & 10  The Hon'ble Apex Court while considering the case has granted relief only to those persons who had \\napproached the Court and those were\"),\n",
       " Document(metadata={'source': 'Case-Test.pdf', 'page': 0}, page_content=\"the persons who had filed the writ petition before this Court within one year from the date on which the last recommendation had been made. Therefore, those persons had approached the Court when the select list/merit list was alive. The case of the petitioners is quite distinguishable as they have approached this Court after more than two months of the expiry of the select list. Therefore, petitioners cannot claim the relief which had been granted to other persons by the Hon'ble Apex Court.  \\n If some person has taken a relief from \\nthis Court by filing a Writ Petition immediately after the cause of action had arisen, petitioners cannot take the benefit thereof by filing a writ petition belatedly. They cannot take any benefit thereof at such a belated stage for the reason that they cannot be permitted to take the impetus of the order passed at the behest of some diligent person.  \\nCase law discussed:\"),\n",
       " Document(metadata={'source': 'Case-Test.pdf', 'page': 0}, page_content=\"2004 (2) ESC-256 AIR 1979 SC-765 AIR 1981 SC-487 AIR 1983 SC-580 1990 (3) SCC-468 1993 (Suppl.) 1 SCC-632 1997 (6) SCC-721 1996 (3) SCC-225 AIR 1996 SC-1145 AIR 1996 SC-2173 1999 (1) SCC-330 2003 (3) SCC-669 1006 (6) SCC-267 \\n \\n(Delivered by Hon'ble Dr. B.S. Chauhan, J.) \\n \\n1.  This petition has been filed for a \\ndirection upon the U.P. Public Service \\nCommission, Allahabad to recommend \\nthe names of the waiting list-candidates against the existing vacancies of Assistant \\nProsecuting Officers, which had been \\nadvertised by Advertisement No. A-5/E-\\n1/1997-98.  \\n \\n2.  Learned counsel for the \\npetitioners has submitted that all the \\npetitioners had appeared in the written examination and were also called for \\ninterview. The final select list was \\ndeclared on 20th March, 1999 and even \\nthough the names of the petitioners were \\nnot included in the main select list, but they are hopeful that their names would \\nbe included in the waiting list. The State\"),\n",
       " Document(metadata={'source': 'Case-Test.pdf', 'page': 0}, page_content='Government had sent a requisition to the \\nCommission to recommend the names of'),\n",
       " Document(metadata={'source': 'Case-Test.pdf', 'page': 1}, page_content='594                               INDIAN LAW REPORT S ALLAHABAD SERIES                            [2006  \\nthe candidates next in order of merit, as \\ncertain candidates did not join the post, \\nbut the Commission expressed its \\ninability as the life of the waiting list had \\nexpired. This decision of the Commission \\nwas challenged by 11 candidates by filing \\na writ petition in this Court which was dismissed. The Supreme Court however granted relief to them by directing that \\nthey shall be considered by the \\nCommission and the State Government, \\nand would be appointed if otherwise found suitable and eligible. The said decision was rendered in Sheo Shyam & \\nOrs. Vs. State of U.P. & Ors., (2004) 2 \\nESC 256. The Supreme Court in the said \\ndecision held that the life of the waiting list which is of one year should be reckoned from the last date when the \\nrecommendation was made by the State \\nGovernment. However, in view of the fact')]"
      ]
     },
     "execution_count": 29,
     "metadata": {},
     "output_type": "execute_result"
    }
   ],
   "source": [
    "from langchain.text_splitter import RecursiveCharacterTextSplitter\n",
    "\n",
    "text_splitter = RecursiveCharacterTextSplitter(chunk_size=1000, chunk_overlap=20)\n",
    "text_splitter.split_documents(docs)[:5]"
   ]
  },
  {
   "cell_type": "code",
   "execution_count": 30,
   "metadata": {},
   "outputs": [
    {
     "data": {
      "text/plain": [
       "[Document(metadata={'source': 'Case-Test.pdf', 'page': 0}, page_content=\"2 All]                     Manoj Kumar Pandey and others V. State of U.P. and another 593\\nORIGINAL JURISDICTION \\nCIVIL SIDE \\nDATED: ALLAHABAD 27.02.2006 \\n \\nBEFORE \\nTHE HON’BLE DR. B.S. CHAUHAN, J. \\nTHE HON’BLE DILIP GUPTA, J. \\n \\nCivil Misc. Writ Petition No. 40736 of 2002 \\n \\nManoj Kumar Pandey & others ...Petitioners \\nVersus \\nState of U.P. and another   ...Opp. parties \\n \\nCounsel for the Petitioners: \\nSri S.P. Pandey \\nSri D.P. Shukla \\n \\nCounsel for the Opposite Parties: Sri B.N. Singh \\n \\nConstitution of India, Art. 226 -Right to \\nappointment-petitioner appeared in competative examination-held for the Post of A.P.O. result declared on 20.3.99-State Government send requisition 26.7.01-petition filed in September 2002 e.g. much after expiry of the life of waiting list-parity can not be claimed.  Held: Para 9 & 10  The Hon'ble Apex Court while considering the case has granted relief only to those persons who had \\napproached the Court and those were\"),\n",
       " Document(metadata={'source': 'Case-Test.pdf', 'page': 0}, page_content=\"the persons who had filed the writ petition before this Court within one year from the date on which the last recommendation had been made. Therefore, those persons had approached the Court when the select list/merit list was alive. The case of the petitioners is quite distinguishable as they have approached this Court after more than two months of the expiry of the select list. Therefore, petitioners cannot claim the relief which had been granted to other persons by the Hon'ble Apex Court.  \\n If some person has taken a relief from \\nthis Court by filing a Writ Petition immediately after the cause of action had arisen, petitioners cannot take the benefit thereof by filing a writ petition belatedly. They cannot take any benefit thereof at such a belated stage for the reason that they cannot be permitted to take the impetus of the order passed at the behest of some diligent person.  \\nCase law discussed:\"),\n",
       " Document(metadata={'source': 'Case-Test.pdf', 'page': 0}, page_content=\"2004 (2) ESC-256 AIR 1979 SC-765 AIR 1981 SC-487 AIR 1983 SC-580 1990 (3) SCC-468 1993 (Suppl.) 1 SCC-632 1997 (6) SCC-721 1996 (3) SCC-225 AIR 1996 SC-1145 AIR 1996 SC-2173 1999 (1) SCC-330 2003 (3) SCC-669 1006 (6) SCC-267 \\n \\n(Delivered by Hon'ble Dr. B.S. Chauhan, J.) \\n \\n1.  This petition has been filed for a \\ndirection upon the U.P. Public Service \\nCommission, Allahabad to recommend \\nthe names of the waiting list-candidates against the existing vacancies of Assistant \\nProsecuting Officers, which had been \\nadvertised by Advertisement No. A-5/E-\\n1/1997-98.  \\n \\n2.  Learned counsel for the \\npetitioners has submitted that all the \\npetitioners had appeared in the written examination and were also called for \\ninterview. The final select list was \\ndeclared on 20th March, 1999 and even \\nthough the names of the petitioners were \\nnot included in the main select list, but they are hopeful that their names would \\nbe included in the waiting list. The State\"),\n",
       " Document(metadata={'source': 'Case-Test.pdf', 'page': 0}, page_content='Government had sent a requisition to the \\nCommission to recommend the names of'),\n",
       " Document(metadata={'source': 'Case-Test.pdf', 'page': 1}, page_content='594                               INDIAN LAW REPORT S ALLAHABAD SERIES                            [2006  \\nthe candidates next in order of merit, as \\ncertain candidates did not join the post, \\nbut the Commission expressed its \\ninability as the life of the waiting list had \\nexpired. This decision of the Commission \\nwas challenged by 11 candidates by filing \\na writ petition in this Court which was dismissed. The Supreme Court however granted relief to them by directing that \\nthey shall be considered by the \\nCommission and the State Government, \\nand would be appointed if otherwise found suitable and eligible. The said decision was rendered in Sheo Shyam & \\nOrs. Vs. State of U.P. & Ors., (2004) 2 \\nESC 256. The Supreme Court in the said \\ndecision held that the life of the waiting list which is of one year should be reckoned from the last date when the \\nrecommendation was made by the State \\nGovernment. However, in view of the fact'),\n",
       " Document(metadata={'source': 'Case-Test.pdf', 'page': 1}, page_content='that after the decision of the Commission not to send the names to the State Government as the waiting list had expired, which decision was the subject matter of the writ petition before the High Court, the State Government itself had sent a requisition of 56 posts, including 11 posts to which the dispute related, and examinations were held subsequently on 9th November, 2003, the Supreme Court observed that the career of 11 candidates cannot be jeopardised, and therefore in these peculiar circumstances, it directed that the appointment shall be considered \\nby the Commission and the State \\nGovernment.  \\n \\n3.  Learned counsel for the \\npetitioners submitted that the same relief \\nshould be granted to the petitioners. From \\na perusal of the judgment of the Supreme \\nCourt we find that because of the peculiar facts and circumstances of the case that the Supreme Court had granted relief to the 11 appellants only. The Supreme \\nCourt could have granted relief to all the'),\n",
       " Document(metadata={'source': 'Case-Test.pdf', 'page': 1}, page_content='candidates in the waiting list subject to \\nthe availability of the vacancies.  \\n \\n4.  In the State of Kerla Vs. Kumari \\nT.P. Roshana & Ors., AIR 1979 SC 765, the Hon\\'ble Supreme Court considered this aspect and observed as under:-  \\n \\n\"The root of the grievance and the \\nfruit of the writ are not individual but collective and while the \\'\\'adversary system\\' makes the Judge a mere umpire, \\ntraditionally speaking, the community \\norientation of the judicial function, so \\ndesirable in the Third World remedial jurisprudence, transforms the Court\\'s power into affirmative structuring of \\nredress so as to make it personally \\nmeaningful and socially relevant.'),\n",
       " Document(metadata={'source': 'Case-Test.pdf', 'page': 1}, page_content='Frustration of invalidity is part of the judicial duty; fulfilment of legality is complementary. Selection of these thirty students will not be confined to those who have moved this Court or the High Court by way of writ petition or appeal. The measure is academic excellence, not litigating persistence. It will be thrown open to the first thirty strictly according to merit measure by marks secured.\"  \\n 5.  The same view has been \\nexpressed by the Apex Court in Ajay Hasia & Ors. Vs. Khalid Mujib \\nSehravardi & Ors., AIR 1981 SC 487; and \\nPunjab Engineering College, Chandigarh \\nVs. Sanjay Gulati & Ors., AIR 1983 SC 580. In Thaper Institute of Engineering & Technology, Patiala Vs. Abhinav Taneja \\n& Ors., (1990) 3 SCC 468, the Apex court \\nconsidered a case where the High Court \\nhad issued directions to admit the students who had approached the writ Court,'),\n",
       " Document(metadata={'source': 'Case-Test.pdf', 'page': 2}, page_content='2 All]                     Manoj Kumar Pandey and others V. State of U.P. and another 595\\nignoring the merit of the students who had \\nnot approached the Court.  \\n \\nThe Hon\\'ble Supreme Court \\nobserved as under:-  \\n \\n\"The High Court should have \\ndirected only two students to be admitted and that too on merit. Admittedly, there \\nwere more meritorious students than the \\nrespondents, waiting in queue. The High \\nCourt, thus, travelled beyond its jurisdiction and not only directed more students than the institute could absorb \\nbut also students who were less \\nmeritorious, to be admitted. No reasons \\nwhatsoever have been given by the High Court for exercising its extraordinary writ jurisdiction so peremptorily which has \\nresulted in injustice, both to the appellant-\\ninstitution as well as to the students who \\nstood higher in merit than all most all the respondent- students. We refrain from making any further comment on the impugned judgment.\"  \\n 6.  Similarly, general directions were'),\n",
       " Document(metadata={'source': 'Case-Test.pdf', 'page': 2}, page_content=\"issued to give benefit to the students strictly in accordance with the merit, in Srawan Kumar & Ors Vs. Director General of Health Services & Ors, 1993 (Supp) 1 SCC 632. In K.C. Sharma & Ors. Vs. Union of India & Ors., (1997) 6 SCC 721, a Constitution Bench of the Hon'ble Supreme Court has considered \\nthe aspect of giving benefit to a particular \\nperson and refusal to grant such benefit \\nby the High Court to other similarly situated only on the ground that they had approached the Court at a belated stage. \\nThe Apex Court held that in such a case \\nthe judgement has to be rendered in rem \\nand benefit of the judgment should be given to all other similarly situated persons.  7.  However as seen above, the \\nSupreme Court in Sheo Shyam & Ors \\n(Supra) restricted the relief to 11 \\nappointments only. In this view of the \\nmatter we would not be justified in \\ngranting any relief to the petitioners. This\"),\n",
       " Document(metadata={'source': 'Case-Test.pdf', 'page': 2}, page_content='apart, it must also be noticed that no specific averment has been made by the petitioners that their names were included \\nin the waiting list. All that they have \\nstated is that they expect that their names \\nwould be included in the waiting list.  \\n 8.  Further the present petitioners \\nhave filed this writ petition only in \\nSeptember, 2002 much after the expiry of \\none year from the date when the last recommendation was made on 26th July, 2001. This petition has been filed after the \\nlife of the waiting list came to an end. It is \\nsettled legal proposition that no relief can'),\n",
       " Document(metadata={'source': 'Case-Test.pdf', 'page': 2}, page_content=\"be granted to the candidate if he approaches the Court after expiry of the Select List. (Vide J. Ashok Kumar Vs. State of Andhra Pradesh & Ors., JT (1996) 3 SCC 225; State of Bihar & Ors. Vs. Md. Kalimuddin & Ors., AIR 1996 SC 1145; State of U.P. & Ors. Vs. Harish Chandra & Ors., AIR 1996 SC 2173; Sushma Suri Vs. Government of National Capital Territory of Delhi & Anr., (1999) 1 SCC 330; & State of U.P. & Ors. Vs. Ram Swarup Saroj, (2003) 3 SCC 699). It has been held therein that if the selection process is over, select list had expired and \\nappointments had been made, no relief \\ncan be granted by the Court at a belated \\nstage.  \\n 9.  The Hon'ble Apex Court while \\nconsidering the case has granted relief \\nonly to those persons who had approached \\nthe Court and those were the persons who had filed the writ petition before this Court within one year from the date on\"),\n",
       " Document(metadata={'source': 'Case-Test.pdf', 'page': 3}, page_content=\"596                               INDIAN LAW REPORT S ALLAHABAD SERIES                            [2006  \\nwhich the last recommendation had been \\nmade. Therefore, those persons had \\napproached the Court when the select \\nlist/merit list was alive. The case of the \\npetitioners is quite distinguishable as they \\nhave approached this Court after more \\nthan two months of the expiry of the select list. Therefore, petitioners cannot claim the relief which had been granted to \\nother persons by the Hon'ble Apex Court.  \\n \\n10.  If some person has taken a relief \\nfrom this Court by filing a Writ Petition immediately after the cause of action had \\narisen, petitioners cannot take the benefit \\nthereof by filing a writ petition belatedly. \\nThey cannot take any benefit thereof at such a belated stage for the reason that they cannot be permitted to take the \\nimpetus of the order passed at the behest \\nof some diligent person.  \\n 11.  In State of Karnataka & Ors. Vs.\"),\n",
       " Document(metadata={'source': 'Case-Test.pdf', 'page': 3}, page_content='S.M. Kotrayya & Ors., (1996) 6 SCC 267, the Hon\\'ble Supreme Court rejected the contention that a petition should be considered ignoring the delay and laches on the ground that he filed the petition just after coming to know of the relief granted by the Court in a similar case as the same cannot furnish a proper explanation for delay and laches. The Court observed that such a plea is wholly unjustified and cannot furnish any ground for ignoring delay and laches.   \\n \\n12.  Same view has been reiterated \\nby the Hon\\'ble Supreme Court in Jagdish Lal & Ors. Vs. State of Haryana & Ors., AIR 1997 SC 2366, observing as under:-  \\n \\n\"Suffice it to state that appellants \\nmay be sleeping over their rights for long and elected to wake-up when they had impetus from Veerpal Chauhan and Ajit Singh\\'s ratio.... desperate attempts of the \\nappellants to re-do the seniority, held by \\nthem in various cadre.... are not amenable \\nto the judicial review at this belated stage.'),\n",
       " Document(metadata={'source': 'Case-Test.pdf', 'page': 3}, page_content='The High Court, therefore, has rightly \\ndismissed the writ petition on the ground \\nof delay as well.\"  \\n 13.  In M/s. Roop Diamonds & Ors. \\nVs. Union of India & Ors., AIR 1989 SC \\n674, the Hon\\'ble Supreme Court \\nconsidered a case where petitioner wanted to get the relief on the basis of the judgment of the Supreme Court wherein a \\nparticular law had been declared ultra \\nvires. The Court rejected the petition on \\nthe ground of delay and latches observing as under:-   \\n \\n\"There is one more ground which \\nbasically sets the present case apart. \\nPetitioners are re-agitating claims which they have not persued for several years. Petitioners were not vigilant but were content to be dormant and close to sit on the fence till somebody else\\'s case came to be decided.\"  \\n 14.  Thus, petitioner was not entitled \\nto claim any benefit of the said judgment of this Court.  \\n 15.  In view of the above, we are of \\nthe considered opinion that no relief can be granted to the petitioners. Petition'),\n",
       " Document(metadata={'source': 'Case-Test.pdf', 'page': 3}, page_content='lacks merit and is accordingly dismissed.  \\n---------')]"
      ]
     },
     "execution_count": 30,
     "metadata": {},
     "output_type": "execute_result"
    }
   ],
   "source": [
    "documents=text_splitter.split_documents(docs)\n",
    "documents"
   ]
  },
  {
   "cell_type": "code",
   "execution_count": null,
   "metadata": {},
   "outputs": [],
   "source": [
    "from transformers import AutoTokenizer, AutoModel\n",
    "import torch\n",
    "\n",
    "def embed_text(texts):\n",
    "    \"\"\"\n",
    "    Takes a list of text strings and returns their embeddings.\n",
    "    \n",
    "    Args:\n",
    "        texts (list): A list of document text strings.\n",
    "        \n",
    "    Returns:\n",
    "        torch.Tensor: A tensor containing the embeddings of the input texts.\n",
    "    \"\"\"\n",
    "    # Load the tokenizer and model\n",
    "    tokenizer = AutoTokenizer.from_pretrained(\"law-ai/InLegalBERT\")\n",
    "    model = AutoModel.from_pretrained(\"law-ai/InLegalBERT\")\n",
    "    \n",
    "    # Tokenize and encode the texts in batches\n",
    "    encoded_inputs = tokenizer(texts, padding=True, truncation=True, return_tensors=\"pt\")\n",
    "    \n",
    "    # Pass the inputs through the model\n",
    "    with torch.no_grad():  # Disable gradient calculation for efficiency\n",
    "        model_output = model(**encoded_inputs)\n",
    "    \n",
    "    # The embeddings are typically extracted from the last hidden state of the [CLS] token\n",
    "    embeddings = model_output.last_hidden_state[:, 0, :]  # Taking the [CLS] token embedding for each text\n",
    "    \n",
    "    return embeddings\n"
   ]
  },
  {
   "cell_type": "code",
   "execution_count": 34,
   "metadata": {},
   "outputs": [],
   "source": [
    "# from langchain_community.embeddings import OpenAIEmbeddings\n",
    "from langchain_community.embeddings import OllamaEmbeddings\n",
    "from langchain_community.vectorstores import FAISS\n",
    "\n",
    "db=FAISS.from_documents(documents[:25],OllamaEmbeddings())"
   ]
  },
  {
   "cell_type": "code",
   "execution_count": 36,
   "metadata": {},
   "outputs": [
    {
     "data": {
      "text/plain": [
       "<langchain_community.vectorstores.faiss.FAISS at 0x22d61e07750>"
      ]
     },
     "execution_count": 36,
     "metadata": {},
     "output_type": "execute_result"
    }
   ],
   "source": [
    "db"
   ]
  },
  {
   "cell_type": "code",
   "execution_count": 40,
   "metadata": {},
   "outputs": [
    {
     "data": {
      "text/plain": [
       "'lacks merit and is accordingly dismissed.  \\n---------'"
      ]
     },
     "execution_count": 40,
     "metadata": {},
     "output_type": "execute_result"
    }
   ],
   "source": [
    "query=\"An attention function can be described as mapping a query \"\n",
    "result=db.similarity_search(query)\n",
    "result[0].page_content"
   ]
  },
  {
   "cell_type": "code",
   "execution_count": 39,
   "metadata": {},
   "outputs": [
    {
     "data": {
      "text/plain": [
       "Ollama(model='llama3.1')"
      ]
     },
     "execution_count": 39,
     "metadata": {},
     "output_type": "execute_result"
    }
   ],
   "source": [
    "from langchain_community.llms import Ollama\n",
    "## Load Ollama LAMA2 LLM model\n",
    "llm=Ollama(model=\"llama3.1\")\n",
    "llm"
   ]
  },
  {
   "cell_type": "code",
   "execution_count": 43,
   "metadata": {},
   "outputs": [],
   "source": [
    "from langchain_core.prompts import ChatPromptTemplate\n",
    "\n",
    "# Define a more flexible and clear prompt template\n",
    "# prompt_template = \"\"\"\n",
    "# Answer the following question based strictly on the provided context. \n",
    "# Provide a thoughtful, step-by-step explanation before giving your final answer. \n",
    "# A bonus of $1000 is yours if the user deems the answer helpful!\n",
    "\n",
    "# Context:\n",
    "# {context}\n",
    "\n",
    "# Question: {input}\n",
    "# \"\"\"\n",
    "\n",
    "# Create the ChatPromptTemplate from the improved template\n",
    "\n",
    "prompt=ChatPromptTemplate.from_messages (\n",
    "    [\n",
    "        (\"system\", \"You are a helpful assistant. Please ask me any questions !!!\"),\n",
    "        (\"user\", \"Context: {context}, Input: {input}\")\n",
    "    ]\n",
    ")\n",
    "# prompt = ChatPromptTemplate.from_template(prompt_template)"
   ]
  },
  {
   "cell_type": "code",
   "execution_count": 44,
   "metadata": {},
   "outputs": [],
   "source": [
    "## Chain Introduction\n",
    "## Create Stuff Docment Chain\n",
    "\n",
    "from langchain.chains.combine_documents import create_stuff_documents_chain\n",
    "\n",
    "document_chain=create_stuff_documents_chain(llm,prompt)"
   ]
  },
  {
   "cell_type": "code",
   "execution_count": 46,
   "metadata": {},
   "outputs": [
    {
     "data": {
      "text/plain": [
       "VectorStoreRetriever(tags=['FAISS', 'OllamaEmbeddings'], vectorstore=<langchain_community.vectorstores.faiss.FAISS object at 0x0000022D61E07750>)"
      ]
     },
     "execution_count": 46,
     "metadata": {},
     "output_type": "execute_result"
    }
   ],
   "source": [
    "\"\"\"\n",
    "Retrievers: A retriever is an interface that returns documents given\n",
    " an unstructured query. It is more general than a vector store.\n",
    " A retriever does not need to be able to store documents, only to \n",
    " return (or retrieve) them. Vector stores can be used as the backbone\n",
    " of a retriever, but there are other types of retrievers as well. \n",
    " https://python.langchain.com/docs/modules/data_connection/retrievers/   \n",
    "\"\"\"\n",
    "\n",
    "retriever=db.as_retriever()\n",
    "retriever"
   ]
  },
  {
   "cell_type": "code",
   "execution_count": 47,
   "metadata": {},
   "outputs": [],
   "source": [
    "\"\"\"\n",
    "Retrieval chain:This chain takes in a user inquiry, which is then\n",
    "passed to the retriever to fetch relevant documents. Those documents \n",
    "(and original inputs) are then passed to an LLM to generate a response\n",
    "https://python.langchain.com/docs/modules/chains/\n",
    "\"\"\"\n",
    "from langchain.chains import create_retrieval_chain\n",
    "retrieval_chain=create_retrieval_chain(retriever,document_chain)"
   ]
  },
  {
   "cell_type": "code",
   "execution_count": 49,
   "metadata": {},
   "outputs": [],
   "source": [
    "response=retrieval_chain.invoke({\"input\":\"Vodafone vs Union of India\"})"
   ]
  },
  {
   "cell_type": "code",
   "execution_count": 53,
   "metadata": {},
   "outputs": [
    {
     "name": "stdout",
     "output_type": "stream",
     "text": [
      "What a delightful context!\n",
      "Here are my questions to help me better understand the case:\n",
      "1. Can you explain why the petitioners' case is distinguishable from others who had approached the court within one year of the last recommendation being made?\n",
      "2. What specific relief were those other persons granted by the Hon'ble Apex Court, and how does it differ from what the petitioners are seeking?\n",
      "3. In Srawan Kumar & Ors Vs. Director General of Health Services & Ors, 1993 (Supp) 1 SCC 632, what was the court's holding regarding giving benefits strictly in accordance with merit?\n",
      "4. You mentioned two cases where the Supreme Court considered granting benefits to a particular person or group despite their belated approach to the court: K.C. Sharma & Ors. Vs. Union of India & Ors., (1997) 6 SCC 721, and S.M. Kotrayya & Ors., (1996) 6 SCC 267. What were the outcomes of these cases?\n",
      "5. In Jagdish Lal & Ors. Vs. State of Haryana & Ors., AIR 1997 SC 2366, what was the court's observation regarding belated attempts to redo seniority in various cadres?\n",
      "Please feel free to answer any or all of these questions!\n"
     ]
    }
   ],
   "source": [
    "arr = response['answer'].split(\"\\n\\n\")\n",
    "\n",
    "for i in arr:\n",
    "    print(i)"
   ]
  }
 ],
 "metadata": {
  "kernelspec": {
   "display_name": "Python 3",
   "language": "python",
   "name": "python3"
  },
  "language_info": {
   "codemirror_mode": {
    "name": "ipython",
    "version": 3
   },
   "file_extension": ".py",
   "mimetype": "text/x-python",
   "name": "python",
   "nbconvert_exporter": "python",
   "pygments_lexer": "ipython3",
   "version": "3.11.9"
  }
 },
 "nbformat": 4,
 "nbformat_minor": 2
}
